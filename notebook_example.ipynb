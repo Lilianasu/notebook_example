{
 "cells": [
  {
   "cell_type": "markdown",
   "metadata": {},
   "source": [
    "   ## Por qué usar un lenguaje de programación?\n",
    "\n",
    "***- Reproducibilidad***\n",
    "\n",
    "Puede ser replicado por otras personas. Uno de los fundamentos de todo el método científico.\n",
    "\n",
    "\n",
    "***- Documentación***\n",
    "\n",
    "Puedes (y debes) comentar sobre las operaciones o procesos aplicados, y que cualquiera pueda entender los pasos y los motivos.\n",
    "\n",
    "\n",
    "***- Errores de dedo***\n",
    "\n",
    "Al automatizar las operaciones, se evitan errores humanos\n",
    "\n",
    "***- No se modifica directamente el archivo***\n",
    "\n",
    "El entorno te permite \"jugar\" con los datos sin modificar el original, y al final guardar los cambios en un archivo nuevo.\n",
    "\n",
    "***- Funciones de estadística descriptiva***\n",
    "\n",
    "Dan el resumen de las variables sin tocar los datos\n",
    "\n",
    "***- Storytelling ***\n",
    "\n",
    "Permite crear una historia sobre cómo fueron limpiados/tratados/visualizados los datos"
   ]
  },
  {
   "cell_type": "markdown",
   "metadata": {
    "slideshow": {
     "slide_type": "slide"
    }
   },
   "source": [
    "# Bike Riding Data Exploration\n",
    "\n",
    "## January 2019\n",
    "\n",
    "![fordgobike2](fordgobike2.png)\n",
    "\n",
    "http://amaconferencecentersspeak.com/the-ford-gobike-grab-a-bike-and-go-in-san-francisco/"
   ]
  },
  {
   "cell_type": "code",
   "execution_count": 2,
   "metadata": {
    "slideshow": {
     "slide_type": "skip"
    }
   },
   "outputs": [],
   "source": [
    "# import all packages and set plots to be embedded inline\n",
    "import numpy as np\n",
    "import pandas as pd\n",
    "import matplotlib.pyplot as plt\n",
    "import seaborn as sb\n",
    "import datetime\n",
    "\n",
    "%matplotlib inline\n"
   ]
  },
  {
   "cell_type": "markdown",
   "metadata": {
    "slideshow": {
     "slide_type": "slide"
    }
   },
   "source": [
    "Exploratory and explanatory analysis regarding bike rides in the Bay Area in California during 2018.\n",
    "\n",
    "All of the explored data was obtained from the [Ford GoBike System Data](https://www.fordgobike.com/system-data), 2018 datasets.\n",
    "\n",
    "![fordgobike3](fordgobike3.png)\n"
   ]
  },
  {
   "cell_type": "code",
   "execution_count": 39,
   "metadata": {
    "slideshow": {
     "slide_type": "skip"
    }
   },
   "outputs": [],
   "source": [
    "# load in the datasets into a pandas dataframe, \n",
    "jan = pd.read_csv('201801-fordgobike-tripdata.csv')\n",
    "feb = pd.read_csv('201802-fordgobike-tripdata.csv')\n",
    "mar = pd.read_csv('201803-fordgobike-tripdata.csv')\n",
    "apr = pd.read_csv('201804-fordgobike-tripdata.csv')\n",
    "may = pd.read_csv('201805-fordgobike-tripdata.csv')\n",
    "jun = pd.read_csv('201806-fordgobike-tripdata.csv')\n",
    "jul = pd.read_csv('201807-fordgobike-tripdata.csv')\n",
    "aug = pd.read_csv('201808-fordgobike-tripdata.csv')\n",
    "sep = pd.read_csv('201809-fordgobike-tripdata.csv')\n",
    "octo = pd.read_csv('201810-fordgobike-tripdata.csv')\n",
    "nov = pd.read_csv('201811-fordgobike-tripdata.csv')\n",
    "dec = pd.read_csv('201812-fordgobike-tripdata.csv')\n",
    "rides = jan.append(feb).append(mar).append(apr).append(may).append(jun).append(jul).append(aug).append(sep).append(octo).append(nov).append(dec)"
   ]
  },
  {
   "cell_type": "code",
   "execution_count": 41,
   "metadata": {},
   "outputs": [],
   "source": [
    "# save into csv\n",
    "rides.to_csv('2018-fordgobike-tripdata.csv', encoding='utf-8', index=False)"
   ]
  },
  {
   "cell_type": "code",
   "execution_count": 3,
   "metadata": {},
   "outputs": [],
   "source": [
    "# load csv\n",
    "rides = pd.read_csv('2018-fordgobike-tripdata.csv')"
   ]
  },
  {
   "cell_type": "code",
   "execution_count": 4,
   "metadata": {},
   "outputs": [],
   "source": [
    "# Make a copy of the rides dataset\n",
    "rides2 = rides.copy()\n",
    "\n",
    "# convert start_time and end_time into timestamp type\n",
    "rides2['start_time'] = pd.to_datetime(rides2['start_time'])\n",
    "rides2['end_time'] = pd.to_datetime(rides2['end_time'])"
   ]
  },
  {
   "cell_type": "markdown",
   "metadata": {
    "slideshow": {
     "slide_type": "slide"
    }
   },
   "source": [
    "### The statistics of the dataset"
   ]
  },
  {
   "cell_type": "code",
   "execution_count": 265,
   "metadata": {
    "slideshow": {
     "slide_type": "fragment"
    }
   },
   "outputs": [
    {
     "name": "stdout",
     "output_type": "stream",
     "text": [
      "Rows and columns: (1863721, 16)\n",
      "\n",
      "duration_sec                 int64\n",
      "start_time                  object\n",
      "end_time                    object\n",
      "start_station_id           float64\n",
      "start_station_name          object\n",
      "start_station_latitude     float64\n",
      "start_station_longitude    float64\n",
      "end_station_id             float64\n",
      "end_station_name            object\n",
      "end_station_latitude       float64\n",
      "end_station_longitude      float64\n",
      "bike_id                      int64\n",
      "user_type                   object\n",
      "member_birth_year          float64\n",
      "member_gender               object\n",
      "bike_share_for_all_trip     object\n",
      "dtype: object\n"
     ]
    }
   ],
   "source": [
    "# print statistics\n",
    "# high-level overview of data shape and composition\n",
    "print('Rows and columns: ' + str(rides.shape))\n",
    "print('')\n",
    "print(rides.dtypes)"
   ]
  },
  {
   "cell_type": "code",
   "execution_count": 6,
   "metadata": {
    "slideshow": {
     "slide_type": "subslide"
    }
   },
   "outputs": [
    {
     "name": "stdout",
     "output_type": "stream",
     "text": [
      "   duration_sec                start_time                  end_time  \\\n",
      "0         75284  2018-01-31 22:52:35.2390  2018-02-01 19:47:19.8240   \n",
      "1         85422  2018-01-31 16:13:34.3510  2018-02-01 15:57:17.3100   \n",
      "2         71576  2018-01-31 14:23:55.8890  2018-02-01 10:16:52.1160   \n",
      "3         61076  2018-01-31 14:53:23.5620  2018-02-01 07:51:20.5000   \n",
      "4         39966  2018-01-31 19:52:24.6670  2018-02-01 06:58:31.0530   \n",
      "\n",
      "   start_station_id                                 start_station_name  \\\n",
      "0             120.0                               Mission Dolores Park   \n",
      "1              15.0  San Francisco Ferry Building (Harry Bridges Pl...   \n",
      "2             304.0                               Jackson St at 5th St   \n",
      "3              75.0                           Market St at Franklin St   \n",
      "4              74.0                              Laguna St at Hayes St   \n",
      "\n",
      "   start_station_latitude  start_station_longitude  end_station_id  \\\n",
      "0               37.761420              -122.426435           285.0   \n",
      "1               37.795392              -122.394203            15.0   \n",
      "2               37.348759              -121.894798           296.0   \n",
      "3               37.773793              -122.421239            47.0   \n",
      "4               37.776435              -122.426244            19.0   \n",
      "\n",
      "                                    end_station_name  end_station_latitude  \\\n",
      "0                         Webster St at O'Farrell St             37.783521   \n",
      "1  San Francisco Ferry Building (Harry Bridges Pl...             37.795392   \n",
      "2                              5th St at Virginia St             37.325998   \n",
      "3                              4th St at Harrison St             37.780955   \n",
      "4                               Post St at Kearny St             37.788975   \n",
      "\n",
      "   end_station_longitude  bike_id   user_type  member_birth_year  \\\n",
      "0            -122.431158     2765  Subscriber             1986.0   \n",
      "1            -122.394203     2815    Customer                NaN   \n",
      "2            -121.877120     3039    Customer             1996.0   \n",
      "3            -122.399749      321    Customer                NaN   \n",
      "4            -122.403452      617  Subscriber             1991.0   \n",
      "\n",
      "  member_gender bike_share_for_all_trip  \n",
      "0          Male                      No  \n",
      "1           NaN                      No  \n",
      "2          Male                      No  \n",
      "3           NaN                      No  \n",
      "4          Male                      No  \n"
     ]
    }
   ],
   "source": [
    "print(rides.head())"
   ]
  },
  {
   "cell_type": "code",
   "execution_count": 286,
   "metadata": {
    "slideshow": {
     "slide_type": "skip"
    }
   },
   "outputs": [
    {
     "name": "stdout",
     "output_type": "stream",
     "text": [
      "       duration_sec  start_station_id  start_station_latitude  \\\n",
      "count  1.863721e+06      1.851950e+06            1.863721e+06   \n",
      "mean   8.573026e+02      1.196744e+02            3.776678e+01   \n",
      "std    2.370379e+03      1.003976e+02            1.057689e-01   \n",
      "min    6.100000e+01      3.000000e+00            3.726331e+01   \n",
      "25%    3.500000e+02      3.300000e+01            3.777106e+01   \n",
      "50%    5.560000e+02      8.900000e+01            3.778107e+01   \n",
      "75%    8.720000e+02      1.860000e+02            3.779625e+01   \n",
      "max    8.636600e+04      3.810000e+02            4.551000e+01   \n",
      "\n",
      "       start_station_longitude  end_station_id  end_station_latitude  \\\n",
      "count             1.863721e+06    1.851950e+06          1.863721e+06   \n",
      "mean             -1.223492e+02    1.181730e+02          3.776690e+01   \n",
      "std               1.654634e-01    1.004403e+02          1.056483e-01   \n",
      "min              -1.224737e+02    3.000000e+00          3.726331e+01   \n",
      "25%              -1.224114e+02    3.000000e+01          3.777106e+01   \n",
      "50%              -1.223974e+02    8.800000e+01          3.778127e+01   \n",
      "75%              -1.222865e+02    1.830000e+02          3.779728e+01   \n",
      "max              -7.357000e+01    3.810000e+02          4.551000e+01   \n",
      "\n",
      "       end_station_longitude       bike_id  member_birth_year  \n",
      "count           1.863721e+06  1.863721e+06       1.753003e+06  \n",
      "mean           -1.223487e+02  2.296851e+03       1.983088e+03  \n",
      "std             1.650597e-01  1.287733e+03       1.044289e+01  \n",
      "min            -1.224737e+02  1.100000e+01       1.881000e+03  \n",
      "25%            -1.224094e+02  1.225000e+03       1.978000e+03  \n",
      "50%            -1.223971e+02  2.338000e+03       1.985000e+03  \n",
      "75%            -1.222894e+02  3.333000e+03       1.991000e+03  \n",
      "max            -7.357000e+01  6.234000e+03       2.000000e+03  \n"
     ]
    }
   ],
   "source": [
    "# descriptive statistics for numeric variables\n",
    "print(rides2.describe())"
   ]
  },
  {
   "cell_type": "code",
   "execution_count": 5,
   "metadata": {
    "slideshow": {
     "slide_type": "subslide"
    }
   },
   "outputs": [
    {
     "data": {
      "text/plain": [
       "count    1.753003e+06\n",
       "mean     1.983088e+03\n",
       "std      1.044289e+01\n",
       "min      1.881000e+03\n",
       "25%      1.978000e+03\n",
       "50%      1.985000e+03\n",
       "75%      1.991000e+03\n",
       "max      2.000000e+03\n",
       "Name: member_birth_year, dtype: float64"
      ]
     },
     "execution_count": 5,
     "metadata": {},
     "output_type": "execute_result"
    }
   ],
   "source": [
    "rides2['member_birth_year'].describe()"
   ]
  },
  {
   "cell_type": "markdown",
   "metadata": {
    "slideshow": {
     "slide_type": "slide"
    }
   },
   "source": [
    "### What is the structure of your dataset?      \n",
    "\n",
    "There are 1,863,721 rides in the dataset with 16 features, which can be clustered in this way: ride duration data (time and date), start and end stations data (location), bike id (numeric), and user data(categorical nominal).\n",
    "\n",
    "There are 331 station ids, 348 station names, and 5054 bikes. <p>\n",
    "Two user types: Subscribers and Customers<p>\n",
    "And member genders: Male, Female, NaN\n",
    "    "
   ]
  },
  {
   "cell_type": "markdown",
   "metadata": {
    "slideshow": {
     "slide_type": "subslide"
    }
   },
   "source": [
    "### What is the main feature(s) of interest in your dataset?\n",
    "\n",
    "I'm most interested in looking for ***user type patterns*** crossed with ride duration, time of the year usage, and start and end stations. \n"
   ]
  },
  {
   "cell_type": "markdown",
   "metadata": {
    "slideshow": {
     "slide_type": "subslide"
    }
   },
   "source": [
    "### What features in the dataset do you think will help support your investigation into your feature(s) of interest?\n",
    "\n",
    "I would like to know if there are any trends in user type bike usage.\n",
    "\n",
    "I believe that during vacation season there are more Customers rides than during not vacation season.\n",
    "\n",
    "I'm wondering if there are any periods of time (months or weeks) in which there are user type differences.\n",
    "\n",
    "Also, I would check the most used stations by each type of user"
   ]
  },
  {
   "cell_type": "markdown",
   "metadata": {
    "slideshow": {
     "slide_type": "slide"
    }
   },
   "source": [
    "## Univariate Exploration"
   ]
  },
  {
   "cell_type": "markdown",
   "metadata": {
    "slideshow": {
     "slide_type": "slide"
    }
   },
   "source": [
    "### user_type\n",
    "I'll start by looking at the distribution of the main variable of interest: user type."
   ]
  },
  {
   "cell_type": "code",
   "execution_count": 45,
   "metadata": {
    "slideshow": {
     "slide_type": "subslide"
    }
   },
   "outputs": [
    {
     "data": {
      "image/png": "[encoded data removed]",
      "text/plain": [
       "<Figure size 432x288 with 1 Axes>"
      ]
     },
     "metadata": {},
     "output_type": "display_data"
    }
   ],
   "source": [
    "\n",
    "sorted_user_type = rides2['user_type'].value_counts()\n",
    "sizes1 = [sorted_user_type['Customer']/sorted_user_type.sum()*100, sorted_user_type['Subscriber']/sorted_user_type.sum()*100]\n",
    "labels1 = ['Customers', 'Subscribers']\n",
    "\n",
    "#plt.subplot(1,2,1)\n",
    "patches, texts, autotexts =plt.pie(sizes1, labels=labels1, startangle=90, autopct='%1.1f%%', counterclock=False);\n",
    "autotexts[0].set_fontsize(12)\n",
    "autotexts[1].set_fontsize(12)\n",
    "texts[0].set_fontsize(12)\n",
    "texts[1].set_fontsize(12)\n",
    "plt.axis('square');\n"
   ]
  },
  {
   "cell_type": "code",
   "execution_count": 6,
   "metadata": {
    "slideshow": {
     "slide_type": "skip"
    }
   },
   "outputs": [],
   "source": [
    "def percentage_blocks(df, var):\n",
    "    \"\"\"\n",
    "    Take as input a dataframe and variable, and return a Pandas series with\n",
    "    approximate percentage values for filling out a waffle plot.\n",
    "    \"\"\"\n",
    "    # compute base quotas\n",
    "    percentages = 100 * df[var].value_counts() / df.shape[0]\n",
    "    counts = np.floor(percentages).astype(int) # integer part = minimum quota\n",
    "    decimal = (percentages - counts).sort_values(ascending = False)\n",
    "\n",
    "    # add in additional counts to reach 100\n",
    "    rem = 100 - counts.sum()\n",
    "    for cat in decimal.index[:rem]:\n",
    "        counts[cat] += 1\n",
    "\n",
    "    return counts"
   ]
  },
  {
   "cell_type": "code",
   "execution_count": 9,
   "metadata": {},
   "outputs": [
    {
     "data": {
      "image/png": "[encoded data removed]",
      "text/plain": [
       "<Figure size 432x288 with 1 Axes>"
      ]
     },
     "metadata": {},
     "output_type": "display_data"
    }
   ],
   "source": [
    "waffle_counts = percentage_blocks(rides2, 'user_type')\n",
    "\n",
    "prev_count = 0\n",
    "# for each category,\n",
    "for cat in range(waffle_counts.shape[0]):\n",
    "    # get the block indices\n",
    "    blocks = np.arange(prev_count, prev_count + waffle_counts[cat])\n",
    "    # and put a block at each index's location\n",
    "    x = blocks % 10 # use mod operation to get ones digit\n",
    "    y = blocks // 10 # use floor division to get tens digit\n",
    "    plt.bar(x = x, height = 0.8, width = 0.8, bottom = y)\n",
    "    prev_count += waffle_counts[cat]\n",
    "\n",
    "# aesthetic wrangling\n",
    "plt.legend(waffle_counts.index, bbox_to_anchor = (1, 0.5), loc = 6)\n",
    "plt.axis('off')\n",
    "plt.axis('square');"
   ]
  },
  {
   "cell_type": "markdown",
   "metadata": {
    "slideshow": {
     "slide_type": "fragment"
    }
   },
   "source": [
    "Subscribers are 5.7 times the count of customers. "
   ]
  },
  {
   "cell_type": "markdown",
   "metadata": {
    "slideshow": {
     "slide_type": "slide"
    }
   },
   "source": [
    "### duration_secs\n",
    "\n",
    "From the statistics, we saw that the values up to percentile 75 were plausible: 938 secs = a 15 minute ride.\n",
    "\n",
    "The maximum value is 86369 = 24 hours ride. \n",
    "\n",
    "We'll check out what is happening in the before and after minute 45."
   ]
  },
  {
   "cell_type": "code",
   "execution_count": 7,
   "metadata": {
    "slideshow": {
     "slide_type": "skip"
    }
   },
   "outputs": [
    {
     "name": "stdout",
     "output_type": "stream",
     "text": [
      "Minimum ride in minutes 0:01:01\n",
      "Percentile 75 in minutes 0:14:32\n",
      "Maximum ride in minutes 23:59:26\n",
      "45 minutes in seconds: 2700.0\n"
     ]
    }
   ],
   "source": [
    "print('Minimum ride in minutes ' +str(datetime.timedelta(seconds=61)))\n",
    "print('Percentile 75 in minutes ' +str(datetime.timedelta(seconds=872)))\n",
    "print('Maximum ride in minutes ' +str(datetime.timedelta(seconds=86366)))\n",
    "print('45 minutes in seconds: ' +str(datetime.timedelta(minutes=45).total_seconds()))"
   ]
  },
  {
   "cell_type": "code",
   "execution_count": 16,
   "metadata": {
    "slideshow": {
     "slide_type": "subslide"
    }
   },
   "outputs": [
    {
     "data": {
      "image/png": "[encoded data removed]",
      "text/plain": [
       "<Figure size 1080x360 with 2 Axes>"
      ]
     },
     "metadata": {},
     "output_type": "display_data"
    }
   ],
   "source": [
    "plt.figure(figsize=[15,5])\n",
    "\n",
    "xtick_locs = np.arange(0, 2701, 300)\n",
    "xtick_names = [0, 5, 10, 15, 20, 25, 30, 35, 40, 45]\n",
    "\n",
    "plt.subplot(1,2,1)\n",
    "plt.hist(data = rides2, x = 'duration_sec', bins=500);\n",
    "plt.xlim([0,2700])\n",
    "plt.xlabel('Minutes')\n",
    "plt.xticks(xtick_locs, xtick_names)\n",
    "plt.title('Rides up to 45 minutes');\n",
    "\n",
    "xtick_locs2 = np.arange(10800, 80000, 10800)\n",
    "xtick_names2 = [3, 6, 9, 18, 21, 24, 27]\n",
    "\n",
    "plt.subplot(1,2,2)\n",
    "plt.hist(data = rides2, x = 'duration_sec', bins=500);\n",
    "plt.xlim([2701,86369])\n",
    "plt.xlabel('Hours')\n",
    "plt.xticks(xtick_locs2,xtick_names2)\n",
    "plt.title('Rides longer than 45 minutes');\n"
   ]
  },
  {
   "cell_type": "markdown",
   "metadata": {
    "slideshow": {
     "slide_type": "subslide"
    }
   },
   "source": [
    "There is no reason to keep values greater than 45 minutes into our analysis.\n",
    "\n",
    "Some people locks uncorrectly the bikes... some others loose, forget or prank bikes\n",
    "\n",
    "![fordgobike4](fordgobike4.jpg)\n"
   ]
  },
  {
   "cell_type": "code",
   "execution_count": 9,
   "metadata": {
    "slideshow": {
     "slide_type": "skip"
    }
   },
   "outputs": [
    {
     "data": {
      "text/html": [
       "<div>\n",
       "<style scoped>\n",
       "    .dataframe tbody tr th:only-of-type {\n",
       "        vertical-align: middle;\n",
       "    }\n",
       "\n",
       "    .dataframe tbody tr th {\n",
       "        vertical-align: top;\n",
       "    }\n",
       "\n",
       "    .dataframe thead th {\n",
       "        text-align: right;\n",
       "    }\n",
       "</style>\n",
       "<table border=\"1\" class=\"dataframe\">\n",
       "  <thead>\n",
       "    <tr style=\"text-align: right;\">\n",
       "      <th></th>\n",
       "      <th>duration_sec</th>\n",
       "      <th>start_time</th>\n",
       "      <th>end_time</th>\n",
       "      <th>start_station_id</th>\n",
       "      <th>start_station_name</th>\n",
       "      <th>start_station_latitude</th>\n",
       "      <th>start_station_longitude</th>\n",
       "      <th>end_station_id</th>\n",
       "      <th>end_station_name</th>\n",
       "      <th>end_station_latitude</th>\n",
       "      <th>end_station_longitude</th>\n",
       "      <th>bike_id</th>\n",
       "      <th>user_type</th>\n",
       "      <th>member_birth_year</th>\n",
       "      <th>member_gender</th>\n",
       "      <th>bike_share_for_all_trip</th>\n",
       "    </tr>\n",
       "  </thead>\n",
       "  <tbody>\n",
       "  </tbody>\n",
       "</table>\n",
       "</div>"
      ],
      "text/plain": [
       "Empty DataFrame\n",
       "Columns: [duration_sec, start_time, end_time, start_station_id, start_station_name, start_station_latitude, start_station_longitude, end_station_id, end_station_name, end_station_latitude, end_station_longitude, bike_id, user_type, member_birth_year, member_gender, bike_share_for_all_trip]\n",
       "Index: []"
      ]
     },
     "execution_count": 9,
     "metadata": {},
     "output_type": "execute_result"
    }
   ],
   "source": [
    "rides_longer_than_45min = rides2.query('duration_sec > 2700')\n",
    "rides2 = rides2.drop(list(rides_longer_than_45min.axes[0]), axis=0)\n",
    "rides2 = rides2.reset_index(drop=True)\n",
    "rides2.query('duration_sec > 2700')"
   ]
  },
  {
   "cell_type": "markdown",
   "metadata": {
    "slideshow": {
     "slide_type": "subslide"
    }
   },
   "source": [
    "Now let's plot again "
   ]
  },
  {
   "cell_type": "code",
   "execution_count": 10,
   "metadata": {
    "slideshow": {
     "slide_type": "fragment"
    }
   },
   "outputs": [
    {
     "data": {
      "image/png": "[encoded data removed]",
      "text/plain": [
       "<Figure size 432x288 with 1 Axes>"
      ]
     },
     "metadata": {},
     "output_type": "display_data"
    }
   ],
   "source": [
    "bin_edges = np.arange(0, 2700+150, 150)\n",
    "tick_locs = np.arange(0, 2701, 300)\n",
    "tick_names = [0, 5, 10, 15, 20, 25, 30, 35, 40, 45]\n",
    "plt.hist(data = rides2, x = 'duration_sec', bins=bin_edges);\n",
    "plt.xticks(tick_locs, tick_names)\n",
    "plt.xlabel('Minutes')\n",
    "plt.ylabel('Users count')\n",
    "plt.title('Rides up to 45 minutes');"
   ]
  },
  {
   "cell_type": "markdown",
   "metadata": {
    "slideshow": {
     "slide_type": "fragment"
    }
   },
   "source": [
    "The peak of use is between 5 and 10 minutes rides while the second place is between 10 and 15 minute rides."
   ]
  },
  {
   "cell_type": "markdown",
   "metadata": {
    "slideshow": {
     "slide_type": "slide"
    }
   },
   "source": [
    "### start_time\n",
    "\n",
    "We'll continue our exploration with the time of the year usage creating a new column named 'month' based on the start_time variable"
   ]
  },
  {
   "cell_type": "code",
   "execution_count": 11,
   "metadata": {
    "slideshow": {
     "slide_type": "skip"
    }
   },
   "outputs": [],
   "source": [
    "rides2['month'] = pd.DatetimeIndex(rides2['start_time']).month"
   ]
  },
  {
   "cell_type": "code",
   "execution_count": 12,
   "metadata": {
    "slideshow": {
     "slide_type": "fragment"
    }
   },
   "outputs": [
    {
     "data": {
      "image/png": "[encoded data removed]",
      "text/plain": [
       "<Figure size 720x360 with 1 Axes>"
      ]
     },
     "metadata": {},
     "output_type": "display_data"
    }
   ],
   "source": [
    "#y_locs = [25000,50000,75000,100000, 125000, 150000, 175000, 200000]\n",
    "#y_labels = ['25k','50k','75k','100k','125k','150k', '175k', '200k']\n",
    "\n",
    "plt.figure(figsize=[10,5])\n",
    "bin_edges = np.arange(0.5, 12.5+1, 1)\n",
    "plt.hist(data = rides2, x='month', bins=bin_edges, rwidth=0.7  )\n",
    "xmonths = ['Jan','Feb', 'Mar','Apr','May','Jun','Jul','Aug','Sep','Oct','Nov','Dec']\n",
    "plt.xticks(np.arange(1, 12+1, 1), xmonths)\n",
    "plt.ylabel('User count')\n",
    "plt.title('Bike usage per month');\n",
    "#plt.yticks(y_locs, y_labels);"
   ]
  },
  {
   "cell_type": "markdown",
   "metadata": {
    "slideshow": {
     "slide_type": "fragment"
    }
   },
   "source": [
    "Months from May to October have higher ride rates\n",
    "\n",
    "Months from November to April show a low ride rate, being january the lowest."
   ]
  },
  {
   "cell_type": "markdown",
   "metadata": {
    "slideshow": {
     "slide_type": "subslide"
    }
   },
   "source": [
    "Comparing visually with the average yearly temperatures in California shown by a weather provider (https://www.holiday-weather.com/san_francisco/averages/)\n",
    "\n",
    "\n",
    "![temp](avg_high_low_temp.png)"
   ]
  },
  {
   "cell_type": "markdown",
   "metadata": {
    "slideshow": {
     "slide_type": "subslide"
    }
   },
   "source": [
    "And also the rain season \n",
    "\n",
    "![rain](avg_rain.png)\n"
   ]
  },
  {
   "cell_type": "markdown",
   "metadata": {
    "slideshow": {
     "slide_type": "subslide"
    }
   },
   "source": [
    "From the images we can say that: \n",
    "- May to october were the peak months of bike usage \n",
    "- June to november were the warmer months \n",
    "- May to september-october were the months with lower rain days\n",
    "\n",
    "This coincides with some researches about the effects of weather conditions on cycling papers.(https://rmets.onlinelibrary.wiley.com/doi/abs/10.1002/met.6) "
   ]
  },
  {
   "cell_type": "markdown",
   "metadata": {
    "slideshow": {
     "slide_type": "subslide"
    }
   },
   "source": [
    "Besides, a quick research about weather in California during 2018 shows two events:\n",
    "1. July as the hottest month in 124 years of recordkeeping, with 79.7 degrees (26.5 C)\n",
    "(https://weather.com/news/climate/news/2018-08-08-july-hottest-month-on-record-california)\n",
    "\n",
    "2. The wildfires in California during november, which also affected the air quality during several days.\n",
    "(https://www.theguardian.com/us-news/2018/nov/12/california-wildfires-bay-area-smoke-haze-air-quality-pollution)\n"
   ]
  },
  {
   "cell_type": "markdown",
   "metadata": {
    "slideshow": {
     "slide_type": "subslide"
    }
   },
   "source": [
    "The sudden drop-off in november could be related to these wildfires, but it is important to notice that<b> none of these thoughts are implying causality.</b>\n",
    "\n",
    "![fordgobike6](fordgobike6.jpg)\n",
    "(https://www.foxnews.com/us/smoke-from-camp-fire-smothering-california-cities-shuttering-popular-attractions-in-san-francisco)"
   ]
  },
  {
   "cell_type": "markdown",
   "metadata": {
    "slideshow": {
     "slide_type": "slide"
    }
   },
   "source": [
    "### end_station_latitude, end_station_longitude\n",
    "\n",
    "A bivariate plot will be used due to the nature of coordinates. \n",
    "\n",
    "This will lead us to an univariate analysis of a new variable named ***zone***.\n"
   ]
  },
  {
   "cell_type": "code",
   "execution_count": 13,
   "metadata": {
    "slideshow": {
     "slide_type": "subslide"
    }
   },
   "outputs": [
    {
     "data": {
      "image/png": "[encoded data removed]",
      "text/plain": [
       "<Figure size 864x360 with 1 Axes>"
      ]
     },
     "metadata": {},
     "output_type": "display_data"
    }
   ],
   "source": [
    "plt.figure(figsize=[12,5])\n",
    "plt.scatter(data=rides2, x='end_station_longitude', y='end_station_latitude')\n",
    "plt.xlabel('End stations longitudes')\n",
    "plt.ylabel('End stations latitudes');"
   ]
  },
  {
   "cell_type": "markdown",
   "metadata": {
    "slideshow": {
     "slide_type": "subslide"
    }
   },
   "source": [
    "I marked in Google Maps https://goo.gl/maps/tC2Cre1D5dE2 the 3 zones provided by Ford GoBike to get approximate coordinates:\n",
    "\n",
    "    - San Francisco aproximate      37.7797002,-122.4203517\n",
    "    - East Bay aproximate           37.7986456,-122.2657993\n",
    "    - San Jose Downtown aproximate  37.33249,-121.8920308\n",
    "    \n",
    "Longitudes greater than -80 are definitely not in California, so let's drop those values and re-plot"
   ]
  },
  {
   "cell_type": "code",
   "execution_count": 14,
   "metadata": {
    "slideshow": {
     "slide_type": "skip"
    }
   },
   "outputs": [
    {
     "data": {
      "text/html": [
       "<div>\n",
       "<style scoped>\n",
       "    .dataframe tbody tr th:only-of-type {\n",
       "        vertical-align: middle;\n",
       "    }\n",
       "\n",
       "    .dataframe tbody tr th {\n",
       "        vertical-align: top;\n",
       "    }\n",
       "\n",
       "    .dataframe thead th {\n",
       "        text-align: right;\n",
       "    }\n",
       "</style>\n",
       "<table border=\"1\" class=\"dataframe\">\n",
       "  <thead>\n",
       "    <tr style=\"text-align: right;\">\n",
       "      <th></th>\n",
       "      <th>duration_sec</th>\n",
       "      <th>start_time</th>\n",
       "      <th>end_time</th>\n",
       "      <th>start_station_id</th>\n",
       "      <th>start_station_name</th>\n",
       "      <th>start_station_latitude</th>\n",
       "      <th>start_station_longitude</th>\n",
       "      <th>end_station_id</th>\n",
       "      <th>end_station_name</th>\n",
       "      <th>end_station_latitude</th>\n",
       "      <th>end_station_longitude</th>\n",
       "      <th>bike_id</th>\n",
       "      <th>user_type</th>\n",
       "      <th>member_birth_year</th>\n",
       "      <th>member_gender</th>\n",
       "      <th>bike_share_for_all_trip</th>\n",
       "      <th>month</th>\n",
       "    </tr>\n",
       "  </thead>\n",
       "  <tbody>\n",
       "  </tbody>\n",
       "</table>\n",
       "</div>"
      ],
      "text/plain": [
       "Empty DataFrame\n",
       "Columns: [duration_sec, start_time, end_time, start_station_id, start_station_name, start_station_latitude, start_station_longitude, end_station_id, end_station_name, end_station_latitude, end_station_longitude, bike_id, user_type, member_birth_year, member_gender, bike_share_for_all_trip, month]\n",
       "Index: []"
      ]
     },
     "execution_count": 14,
     "metadata": {},
     "output_type": "execute_result"
    }
   ],
   "source": [
    "long_greater_than_min80 = rides2.query('end_station_longitude > -80')\n",
    "rides2 = rides2.drop(list(long_greater_than_min80.axes[0]), axis=0)\n",
    "rides2 = rides2.reset_index(drop=True)\n",
    "rides2.query('end_station_longitude > -80')"
   ]
  },
  {
   "cell_type": "code",
   "execution_count": 15,
   "metadata": {
    "slideshow": {
     "slide_type": "skip"
    }
   },
   "outputs": [
    {
     "data": {
      "text/html": [
       "<div>\n",
       "<style scoped>\n",
       "    .dataframe tbody tr th:only-of-type {\n",
       "        vertical-align: middle;\n",
       "    }\n",
       "\n",
       "    .dataframe tbody tr th {\n",
       "        vertical-align: top;\n",
       "    }\n",
       "\n",
       "    .dataframe thead th {\n",
       "        text-align: right;\n",
       "    }\n",
       "</style>\n",
       "<table border=\"1\" class=\"dataframe\">\n",
       "  <thead>\n",
       "    <tr style=\"text-align: right;\">\n",
       "      <th></th>\n",
       "      <th>duration_sec</th>\n",
       "      <th>start_time</th>\n",
       "      <th>end_time</th>\n",
       "      <th>start_station_id</th>\n",
       "      <th>start_station_name</th>\n",
       "      <th>start_station_latitude</th>\n",
       "      <th>start_station_longitude</th>\n",
       "      <th>end_station_id</th>\n",
       "      <th>end_station_name</th>\n",
       "      <th>end_station_latitude</th>\n",
       "      <th>end_station_longitude</th>\n",
       "      <th>bike_id</th>\n",
       "      <th>user_type</th>\n",
       "      <th>member_birth_year</th>\n",
       "      <th>member_gender</th>\n",
       "      <th>bike_share_for_all_trip</th>\n",
       "      <th>month</th>\n",
       "    </tr>\n",
       "  </thead>\n",
       "  <tbody>\n",
       "  </tbody>\n",
       "</table>\n",
       "</div>"
      ],
      "text/plain": [
       "Empty DataFrame\n",
       "Columns: [duration_sec, start_time, end_time, start_station_id, start_station_name, start_station_latitude, start_station_longitude, end_station_id, end_station_name, end_station_latitude, end_station_longitude, bike_id, user_type, member_birth_year, member_gender, bike_share_for_all_trip, month]\n",
       "Index: []"
      ]
     },
     "execution_count": 15,
     "metadata": {},
     "output_type": "execute_result"
    }
   ],
   "source": [
    "start_long_greater_than_min80 = rides2.query('start_station_longitude > -80')\n",
    "rides2 = rides2.drop(list(start_long_greater_than_min80.axes[0]), axis=0)\n",
    "rides2 = rides2.reset_index(drop=True)\n",
    "rides2.query('start_station_longitude > -80')"
   ]
  },
  {
   "cell_type": "markdown",
   "metadata": {
    "slideshow": {
     "slide_type": "subslide"
    }
   },
   "source": [
    "And now redraw the scatterplot."
   ]
  },
  {
   "cell_type": "code",
   "execution_count": 268,
   "metadata": {
    "slideshow": {
     "slide_type": "fragment"
    }
   },
   "outputs": [
    {
     "data": {
      "image/png": "[encoded data removed]",
      "text/plain": [
       "<Figure size 864x360 with 1 Axes>"
      ]
     },
     "metadata": {},
     "output_type": "display_data"
    }
   ],
   "source": [
    "plt.figure(figsize=[12,5])\n",
    "plt.scatter(data=rides2, x='end_station_longitude', y='end_station_latitude')\n",
    "plt.xlabel('longitude')\n",
    "plt.ylabel('latitude')\n",
    "plt.title('End station locations')\n",
    "\n",
    "plt.text(-122.45,37.6, 'San Francisco', fontsize=12)\n",
    "plt.text(-122.28,37.6, 'East Bay', fontsize=12)\n",
    "plt.text(-121.95,37.6, 'San Jose', fontsize=12);"
   ]
  },
  {
   "cell_type": "markdown",
   "metadata": {
    "slideshow": {
     "slide_type": "subslide"
    }
   },
   "source": [
    "From the scatterplot, we'll set longitude delimeters for each zone. A new ***zone*** column will be created and described with a barchart\n",
    "    - San Francisco aproximate      -122.5 to -122.35\n",
    "    - East Bay aproximate           -122.34 to -122.15\n",
    "    - San Jose Downtown aproximate  -122.0 to -121.8"
   ]
  },
  {
   "cell_type": "code",
   "execution_count": 17,
   "metadata": {
    "slideshow": {
     "slide_type": "skip"
    }
   },
   "outputs": [],
   "source": [
    "rides2.loc[rides2['end_station_longitude'] < -122.35, 'zone'] = 'San Francisco'\n",
    "rides2.loc[rides2['end_station_longitude'] > -122, 'zone'] = 'San Jose'\n",
    "rides2.loc[(rides2['end_station_longitude'] >-122.34) & (rides2['end_station_longitude'] < -122.15), 'zone'] = 'East Bay'"
   ]
  },
  {
   "cell_type": "code",
   "execution_count": 18,
   "metadata": {
    "slideshow": {
     "slide_type": "skip"
    }
   },
   "outputs": [
    {
     "data": {
      "text/html": [
       "<div>\n",
       "<style scoped>\n",
       "    .dataframe tbody tr th:only-of-type {\n",
       "        vertical-align: middle;\n",
       "    }\n",
       "\n",
       "    .dataframe tbody tr th {\n",
       "        vertical-align: top;\n",
       "    }\n",
       "\n",
       "    .dataframe thead th {\n",
       "        text-align: right;\n",
       "    }\n",
       "</style>\n",
       "<table border=\"1\" class=\"dataframe\">\n",
       "  <thead>\n",
       "    <tr style=\"text-align: right;\">\n",
       "      <th></th>\n",
       "      <th>duration_sec</th>\n",
       "      <th>start_time</th>\n",
       "      <th>end_time</th>\n",
       "      <th>start_station_id</th>\n",
       "      <th>start_station_name</th>\n",
       "      <th>start_station_latitude</th>\n",
       "      <th>start_station_longitude</th>\n",
       "      <th>end_station_id</th>\n",
       "      <th>end_station_name</th>\n",
       "      <th>end_station_latitude</th>\n",
       "      <th>end_station_longitude</th>\n",
       "      <th>bike_id</th>\n",
       "      <th>user_type</th>\n",
       "      <th>member_birth_year</th>\n",
       "      <th>member_gender</th>\n",
       "      <th>bike_share_for_all_trip</th>\n",
       "      <th>month</th>\n",
       "      <th>zone</th>\n",
       "    </tr>\n",
       "  </thead>\n",
       "  <tbody>\n",
       "    <tr>\n",
       "      <th>0</th>\n",
       "      <td>453</td>\n",
       "      <td>2018-01-31 23:53:53.632</td>\n",
       "      <td>2018-02-01 00:01:26.805</td>\n",
       "      <td>110.0</td>\n",
       "      <td>17th &amp; Folsom Street Park (17th St at Folsom St)</td>\n",
       "      <td>37.763708</td>\n",
       "      <td>-122.415204</td>\n",
       "      <td>134.0</td>\n",
       "      <td>Valencia St at 24th St</td>\n",
       "      <td>37.752428</td>\n",
       "      <td>-122.420628</td>\n",
       "      <td>3571</td>\n",
       "      <td>Subscriber</td>\n",
       "      <td>1988.0</td>\n",
       "      <td>Male</td>\n",
       "      <td>No</td>\n",
       "      <td>1</td>\n",
       "      <td>San Francisco</td>\n",
       "    </tr>\n",
       "    <tr>\n",
       "      <th>1</th>\n",
       "      <td>180</td>\n",
       "      <td>2018-01-31 23:52:09.903</td>\n",
       "      <td>2018-01-31 23:55:10.807</td>\n",
       "      <td>81.0</td>\n",
       "      <td>Berry St at 4th St</td>\n",
       "      <td>37.775880</td>\n",
       "      <td>-122.393170</td>\n",
       "      <td>93.0</td>\n",
       "      <td>4th St at Mission Bay Blvd S</td>\n",
       "      <td>37.770407</td>\n",
       "      <td>-122.391198</td>\n",
       "      <td>1403</td>\n",
       "      <td>Subscriber</td>\n",
       "      <td>1980.0</td>\n",
       "      <td>Male</td>\n",
       "      <td>No</td>\n",
       "      <td>1</td>\n",
       "      <td>San Francisco</td>\n",
       "    </tr>\n",
       "    <tr>\n",
       "      <th>2</th>\n",
       "      <td>996</td>\n",
       "      <td>2018-01-31 23:34:56.004</td>\n",
       "      <td>2018-01-31 23:51:32.674</td>\n",
       "      <td>134.0</td>\n",
       "      <td>Valencia St at 24th St</td>\n",
       "      <td>37.752428</td>\n",
       "      <td>-122.420628</td>\n",
       "      <td>4.0</td>\n",
       "      <td>Cyril Magnin St at Ellis St</td>\n",
       "      <td>37.785881</td>\n",
       "      <td>-122.408915</td>\n",
       "      <td>3675</td>\n",
       "      <td>Subscriber</td>\n",
       "      <td>1987.0</td>\n",
       "      <td>Male</td>\n",
       "      <td>Yes</td>\n",
       "      <td>1</td>\n",
       "      <td>San Francisco</td>\n",
       "    </tr>\n",
       "    <tr>\n",
       "      <th>3</th>\n",
       "      <td>825</td>\n",
       "      <td>2018-01-31 23:34:14.027</td>\n",
       "      <td>2018-01-31 23:47:59.809</td>\n",
       "      <td>305.0</td>\n",
       "      <td>Ryland Park</td>\n",
       "      <td>37.342725</td>\n",
       "      <td>-121.895617</td>\n",
       "      <td>317.0</td>\n",
       "      <td>San Salvador St at 9th St</td>\n",
       "      <td>37.333955</td>\n",
       "      <td>-121.877349</td>\n",
       "      <td>1453</td>\n",
       "      <td>Subscriber</td>\n",
       "      <td>1994.0</td>\n",
       "      <td>Female</td>\n",
       "      <td>Yes</td>\n",
       "      <td>1</td>\n",
       "      <td>San Jose</td>\n",
       "    </tr>\n",
       "    <tr>\n",
       "      <th>4</th>\n",
       "      <td>1316</td>\n",
       "      <td>2018-01-31 23:24:00.416</td>\n",
       "      <td>2018-01-31 23:45:56.824</td>\n",
       "      <td>98.0</td>\n",
       "      <td>Valencia St at 16th St</td>\n",
       "      <td>37.765052</td>\n",
       "      <td>-122.421866</td>\n",
       "      <td>4.0</td>\n",
       "      <td>Cyril Magnin St at Ellis St</td>\n",
       "      <td>37.785881</td>\n",
       "      <td>-122.408915</td>\n",
       "      <td>1278</td>\n",
       "      <td>Customer</td>\n",
       "      <td>NaN</td>\n",
       "      <td>NaN</td>\n",
       "      <td>No</td>\n",
       "      <td>1</td>\n",
       "      <td>San Francisco</td>\n",
       "    </tr>\n",
       "  </tbody>\n",
       "</table>\n",
       "</div>"
      ],
      "text/plain": [
       "   duration_sec              start_time                end_time  \\\n",
       "0           453 2018-01-31 23:53:53.632 2018-02-01 00:01:26.805   \n",
       "1           180 2018-01-31 23:52:09.903 2018-01-31 23:55:10.807   \n",
       "2           996 2018-01-31 23:34:56.004 2018-01-31 23:51:32.674   \n",
       "3           825 2018-01-31 23:34:14.027 2018-01-31 23:47:59.809   \n",
       "4          1316 2018-01-31 23:24:00.416 2018-01-31 23:45:56.824   \n",
       "\n",
       "   start_station_id                                start_station_name  \\\n",
       "0             110.0  17th & Folsom Street Park (17th St at Folsom St)   \n",
       "1              81.0                                Berry St at 4th St   \n",
       "2             134.0                            Valencia St at 24th St   \n",
       "3             305.0                                       Ryland Park   \n",
       "4              98.0                            Valencia St at 16th St   \n",
       "\n",
       "   start_station_latitude  start_station_longitude  end_station_id  \\\n",
       "0               37.763708              -122.415204           134.0   \n",
       "1               37.775880              -122.393170            93.0   \n",
       "2               37.752428              -122.420628             4.0   \n",
       "3               37.342725              -121.895617           317.0   \n",
       "4               37.765052              -122.421866             4.0   \n",
       "\n",
       "               end_station_name  end_station_latitude  end_station_longitude  \\\n",
       "0        Valencia St at 24th St             37.752428            -122.420628   \n",
       "1  4th St at Mission Bay Blvd S             37.770407            -122.391198   \n",
       "2   Cyril Magnin St at Ellis St             37.785881            -122.408915   \n",
       "3     San Salvador St at 9th St             37.333955            -121.877349   \n",
       "4   Cyril Magnin St at Ellis St             37.785881            -122.408915   \n",
       "\n",
       "   bike_id   user_type  member_birth_year member_gender  \\\n",
       "0     3571  Subscriber             1988.0          Male   \n",
       "1     1403  Subscriber             1980.0          Male   \n",
       "2     3675  Subscriber             1987.0          Male   \n",
       "3     1453  Subscriber             1994.0        Female   \n",
       "4     1278    Customer                NaN           NaN   \n",
       "\n",
       "  bike_share_for_all_trip  month           zone  \n",
       "0                      No      1  San Francisco  \n",
       "1                      No      1  San Francisco  \n",
       "2                     Yes      1  San Francisco  \n",
       "3                     Yes      1       San Jose  \n",
       "4                      No      1  San Francisco  "
      ]
     },
     "execution_count": 18,
     "metadata": {},
     "output_type": "execute_result"
    }
   ],
   "source": [
    "rides2.head()"
   ]
  },
  {
   "cell_type": "markdown",
   "metadata": {
    "slideshow": {
     "slide_type": "skip"
    }
   },
   "source": [
    "The new variable will be described with a barchart."
   ]
  },
  {
   "cell_type": "code",
   "execution_count": 107,
   "metadata": {
    "slideshow": {
     "slide_type": "skip"
    }
   },
   "outputs": [
    {
     "data": {
      "text/plain": [
       "San Francisco    1328682\n",
       "East Bay          392966\n",
       "San Jose           96251\n",
       "Name: zone, dtype: int64"
      ]
     },
     "execution_count": 107,
     "metadata": {},
     "output_type": "execute_result"
    }
   ],
   "source": [
    "sorted_zones"
   ]
  },
  {
   "cell_type": "code",
   "execution_count": 19,
   "metadata": {
    "slideshow": {
     "slide_type": "fragment"
    }
   },
   "outputs": [
    {
     "data": {
      "image/png": "[encoded data removed]",
      "text/plain": [
       "<Figure size 576x288 with 1 Axes>"
      ]
     },
     "metadata": {},
     "output_type": "display_data"
    }
   ],
   "source": [
    "# Order\n",
    "sorted_zones = rides2['zone'].value_counts()\n",
    "zones_order = sorted_zones.index\n",
    "\n",
    "# Proportions\n",
    "n_points = rides2.shape[0]\n",
    "all_zones = rides2['zone']\n",
    "max_proportion =  sorted_zones[0]/sorted_zones.sum()\n",
    "\n",
    "#tick mark locations and names\n",
    "tick_props = np.arange(0, max_proportion+0.2, 0.1)\n",
    "tick_locs = tick_props*sorted_zones.sum()\n",
    "tick_names = ['{:0.2f}'.format(v) for v in tick_props]\n",
    "\n",
    "#create the plot\n",
    "plt.figure(figsize=[8,4])\n",
    "base_color = sb.color_palette()[0]\n",
    "sb.countplot(data = rides2, y='zone', color=base_color, order=zones_order);\n",
    "plt.xlabel('proportion')\n",
    "plt.ylabel('')\n",
    "plt.xticks(tick_locs, tick_names)\n",
    "plt.title('Bikes by zone');"
   ]
  },
  {
   "cell_type": "code",
   "execution_count": 20,
   "metadata": {
    "slideshow": {
     "slide_type": "skip"
    }
   },
   "outputs": [
    {
     "data": {
      "text/plain": [
       "San Francisco    0.730889\n",
       "East Bay         0.216165\n",
       "San Jose         0.052946\n",
       "Name: zone, dtype: float64"
      ]
     },
     "execution_count": 20,
     "metadata": {},
     "output_type": "execute_result"
    }
   ],
   "source": [
    " sorted_zones/sorted_zones.sum()"
   ]
  },
  {
   "cell_type": "markdown",
   "metadata": {
    "slideshow": {
     "slide_type": "fragment"
    }
   },
   "source": [
    "The San Francisco zone has 73% of the bicycles, while East Bay has the 21.6%, and San Jose has 5.3%"
   ]
  },
  {
   "cell_type": "markdown",
   "metadata": {
    "slideshow": {
     "slide_type": "slide"
    }
   },
   "source": [
    "### member_birth_year\n",
    "\n",
    "As a first action, let's create a column with the (aproximate) age of the riders in 2018, so the plots are more easily read, and plot a histogram."
   ]
  },
  {
   "cell_type": "code",
   "execution_count": 21,
   "metadata": {
    "slideshow": {
     "slide_type": "fragment"
    }
   },
   "outputs": [
    {
     "data": {
      "image/png": "[encoded data removed]",
      "text/plain": [
       "<Figure size 1080x288 with 2 Axes>"
      ]
     },
     "metadata": {},
     "output_type": "display_data"
    }
   ],
   "source": [
    "rides2['age_in_2018'] = 2018 - rides2['member_birth_year']\n",
    "\n",
    "plt.figure(figsize=[15,4])\n",
    "\n",
    "plt.subplot(1,2,1)\n",
    "plt.hist( data = rides2.dropna(), x='age_in_2018', bins=25)\n",
    "plt.xlabel('Age')\n",
    "\n",
    "plt.subplot(1,2,2)\n",
    "plt.boxplot(data = rides2.dropna(), x= 'age_in_2018', vert=False, meanline=True)\n",
    "plt.ylabel('')\n",
    "plt.xlabel('Age')\n",
    "\n",
    "plt.suptitle(\"Member's age\");"
   ]
  },
  {
   "cell_type": "code",
   "execution_count": 22,
   "metadata": {
    "slideshow": {
     "slide_type": "skip"
    }
   },
   "outputs": [
    {
     "data": {
      "text/plain": [
       "0.25     27.0\n",
       "0.50     33.0\n",
       "0.75     40.0\n",
       "1.00    137.0\n",
       "Name: age_in_2018, dtype: float64"
      ]
     },
     "execution_count": 22,
     "metadata": {},
     "output_type": "execute_result"
    }
   ],
   "source": [
    "rides2['age_in_2018'].quantile([0.25,0.5,0.75,1])"
   ]
  },
  {
   "cell_type": "markdown",
   "metadata": {
    "slideshow": {
     "slide_type": "subslide"
    }
   },
   "source": [
    "This is a left-skewed histogram which varies ages between 18 and 88 years old. 75% of the riders have between 18 an 40 years.\n",
    "\n",
    "It is unlikely that many bikers are older than 100 years. We are not sure about which ages have digit errors and which are right, but I think the best is to change the values greater than 80yo (1938) to NaN."
   ]
  },
  {
   "cell_type": "code",
   "execution_count": 23,
   "metadata": {
    "slideshow": {
     "slide_type": "skip"
    }
   },
   "outputs": [
    {
     "data": {
      "text/html": [
       "<div>\n",
       "<style scoped>\n",
       "    .dataframe tbody tr th:only-of-type {\n",
       "        vertical-align: middle;\n",
       "    }\n",
       "\n",
       "    .dataframe tbody tr th {\n",
       "        vertical-align: top;\n",
       "    }\n",
       "\n",
       "    .dataframe thead th {\n",
       "        text-align: right;\n",
       "    }\n",
       "</style>\n",
       "<table border=\"1\" class=\"dataframe\">\n",
       "  <thead>\n",
       "    <tr style=\"text-align: right;\">\n",
       "      <th></th>\n",
       "      <th>duration_sec</th>\n",
       "      <th>start_time</th>\n",
       "      <th>end_time</th>\n",
       "      <th>start_station_id</th>\n",
       "      <th>start_station_name</th>\n",
       "      <th>start_station_latitude</th>\n",
       "      <th>start_station_longitude</th>\n",
       "      <th>end_station_id</th>\n",
       "      <th>end_station_name</th>\n",
       "      <th>end_station_latitude</th>\n",
       "      <th>end_station_longitude</th>\n",
       "      <th>bike_id</th>\n",
       "      <th>user_type</th>\n",
       "      <th>member_birth_year</th>\n",
       "      <th>member_gender</th>\n",
       "      <th>bike_share_for_all_trip</th>\n",
       "      <th>month</th>\n",
       "      <th>zone</th>\n",
       "      <th>age_in_2018</th>\n",
       "    </tr>\n",
       "  </thead>\n",
       "  <tbody>\n",
       "  </tbody>\n",
       "</table>\n",
       "</div>"
      ],
      "text/plain": [
       "Empty DataFrame\n",
       "Columns: [duration_sec, start_time, end_time, start_station_id, start_station_name, start_station_latitude, start_station_longitude, end_station_id, end_station_name, end_station_latitude, end_station_longitude, bike_id, user_type, member_birth_year, member_gender, bike_share_for_all_trip, month, zone, age_in_2018]\n",
       "Index: []"
      ]
     },
     "execution_count": 23,
     "metadata": {},
     "output_type": "execute_result"
    }
   ],
   "source": [
    "indexes = list(rides2.query('member_birth_year < 1938').index)\n",
    "for row in indexes:\n",
    "    rides2.iloc[row, 13] = np.nan  #change member_birth_year\n",
    "    rides2.iloc[row, 18] = np.nan  #change age_in_2018\n",
    "rides2.query('member_birth_year < 1938')"
   ]
  },
  {
   "cell_type": "markdown",
   "metadata": {
    "slideshow": {
     "slide_type": "skip"
    }
   },
   "source": [
    "Now we can redraw the member's age histogram and boxplot:"
   ]
  },
  {
   "cell_type": "code",
   "execution_count": 33,
   "metadata": {
    "slideshow": {
     "slide_type": "fragment"
    }
   },
   "outputs": [
    {
     "data": {
      "image/png": "[encoded data removed]",
      "text/plain": [
       "<Figure size 1080x288 with 2 Axes>"
      ]
     },
     "metadata": {},
     "output_type": "display_data"
    }
   ],
   "source": [
    "rides2['age_in_2018'] = 2018 - rides2['member_birth_year']\n",
    "\n",
    "plt.figure(figsize=[15,4])\n",
    "\n",
    "plt.subplot(1,2,1)\n",
    "plt.hist( data = rides2.dropna(), x='age_in_2018', bins=20)\n",
    "plt.xlabel('Age')\n",
    "\n",
    "plt.subplot(1,2,2)\n",
    "plt.boxplot(data = rides2.dropna(), x= 'age_in_2018', vert=False, meanline=True)\n",
    "plt.ylabel('')\n",
    "plt.xlabel('Age')\n",
    "\n",
    "plt.suptitle(\"Member's age\");"
   ]
  },
  {
   "cell_type": "markdown",
   "metadata": {
    "slideshow": {
     "slide_type": "slide"
    }
   },
   "source": [
    "### Discuss the distribution(s) of your variable(s) of interest. Were there any unusual points? Did you need to perform any transformations?\n",
    "\n",
    "The variable user_type has only two values, where the suscribers are the big majority over against the customers, probably. The first ones have unlimited 45-min trips for \\$15 a month. The second ones have purchased either the \\$2 one trip, or the \\$10 one day.\n"
   ]
  },
  {
   "cell_type": "markdown",
   "metadata": {
    "slideshow": {
     "slide_type": "subslide"
    }
   },
   "source": [
    "### Of the features you investigated, were there any unusual distributions? Did you perform any operations on the data to tidy, adjust, or change the form of the data? If so, why did you do this?\n",
    "\n",
    "- When investigating the duration_sec variable, a number of outlier points were identified. These could have appeared due to errors when locking the bicycles, so the rides longer than 45min were ruled out.\n",
    "\n",
    "- The stations locations (end_station_latitude, end_station_longitude, start_station_latitude, and start_station_longitude vars) were drawed as latitude and longitude pairs, and discarded the ones with longitudes greater than -80, locations which don't belong to California. There were 3 blobs recognized as San Francisco, East Bay and San Jose, so a new variable ***zone*** was created.\n",
    "\n",
    "- The month of the given ride was extracted from the start_time variable. There were more rides between may and october. The variable month was visually compared with temperature and rain yearly averages. Also a little research about weather events in California in 2018 pointed out the big fires during november, which coincide with the bike usage fall down in november.\n",
    "\n",
    "- From the member_birth_year variable, years lower than 1930 were ruled out (88yo in 2018)"
   ]
  },
  {
   "cell_type": "markdown",
   "metadata": {
    "slideshow": {
     "slide_type": "slide"
    }
   },
   "source": [
    "## Bivariate Exploration\n",
    "\n"
   ]
  },
  {
   "cell_type": "markdown",
   "metadata": {
    "slideshow": {
     "slide_type": "slide"
    }
   },
   "source": [
    "### duration_sec & member_birth_year\n",
    "To start off with, I want to scatterplot the two numeric variables of our study.\n",
    "\n",
    "We'll start creating a 1000 rows sample from the rides2 dataframe, and later we'll create a scatterplot with the member's birth year, and the duration of rides displayed in minutes."
   ]
  },
  {
   "cell_type": "code",
   "execution_count": 34,
   "metadata": {
    "slideshow": {
     "slide_type": "skip"
    }
   },
   "outputs": [
    {
     "data": {
      "text/html": [
       "<div>\n",
       "<style scoped>\n",
       "    .dataframe tbody tr th:only-of-type {\n",
       "        vertical-align: middle;\n",
       "    }\n",
       "\n",
       "    .dataframe tbody tr th {\n",
       "        vertical-align: top;\n",
       "    }\n",
       "\n",
       "    .dataframe thead th {\n",
       "        text-align: right;\n",
       "    }\n",
       "</style>\n",
       "<table border=\"1\" class=\"dataframe\">\n",
       "  <thead>\n",
       "    <tr style=\"text-align: right;\">\n",
       "      <th></th>\n",
       "      <th>duration_sec</th>\n",
       "      <th>start_time</th>\n",
       "      <th>end_time</th>\n",
       "      <th>start_station_id</th>\n",
       "      <th>start_station_name</th>\n",
       "      <th>start_station_latitude</th>\n",
       "      <th>start_station_longitude</th>\n",
       "      <th>end_station_id</th>\n",
       "      <th>end_station_name</th>\n",
       "      <th>end_station_latitude</th>\n",
       "      <th>end_station_longitude</th>\n",
       "      <th>bike_id</th>\n",
       "      <th>user_type</th>\n",
       "      <th>member_birth_year</th>\n",
       "      <th>member_gender</th>\n",
       "      <th>bike_share_for_all_trip</th>\n",
       "      <th>month</th>\n",
       "      <th>zone</th>\n",
       "      <th>age_in_2018</th>\n",
       "    </tr>\n",
       "  </thead>\n",
       "  <tbody>\n",
       "    <tr>\n",
       "      <th>68990</th>\n",
       "      <td>267</td>\n",
       "      <td>2018-01-11 07:22:49.325</td>\n",
       "      <td>2018-01-11 07:27:17.053</td>\n",
       "      <td>226.0</td>\n",
       "      <td>26th Ave at International Blvd</td>\n",
       "      <td>37.781123</td>\n",
       "      <td>-122.232991</td>\n",
       "      <td>234.0</td>\n",
       "      <td>Fruitvale Ave at International Blvd</td>\n",
       "      <td>37.777682</td>\n",
       "      <td>-122.225771</td>\n",
       "      <td>2463</td>\n",
       "      <td>Subscriber</td>\n",
       "      <td>1975.0</td>\n",
       "      <td>Male</td>\n",
       "      <td>Yes</td>\n",
       "      <td>1</td>\n",
       "      <td>East Bay</td>\n",
       "      <td>43.0</td>\n",
       "    </tr>\n",
       "    <tr>\n",
       "      <th>2696</th>\n",
       "      <td>1098</td>\n",
       "      <td>2018-01-31 11:02:26.521</td>\n",
       "      <td>2018-01-31 11:20:44.682</td>\n",
       "      <td>139.0</td>\n",
       "      <td>Garfield Square (25th St at Harrison St)</td>\n",
       "      <td>37.751017</td>\n",
       "      <td>-122.411901</td>\n",
       "      <td>45.0</td>\n",
       "      <td>5th St at Howard St</td>\n",
       "      <td>37.781752</td>\n",
       "      <td>-122.405127</td>\n",
       "      <td>609</td>\n",
       "      <td>Customer</td>\n",
       "      <td>1988.0</td>\n",
       "      <td>Female</td>\n",
       "      <td>No</td>\n",
       "      <td>1</td>\n",
       "      <td>San Francisco</td>\n",
       "      <td>30.0</td>\n",
       "    </tr>\n",
       "    <tr>\n",
       "      <th>1160141</th>\n",
       "      <td>604</td>\n",
       "      <td>2018-08-03 17:12:39.074</td>\n",
       "      <td>2018-08-03 17:22:43.834</td>\n",
       "      <td>81.0</td>\n",
       "      <td>Berry St at 4th St</td>\n",
       "      <td>37.775880</td>\n",
       "      <td>-122.393170</td>\n",
       "      <td>22.0</td>\n",
       "      <td>Howard St at Beale St</td>\n",
       "      <td>37.789756</td>\n",
       "      <td>-122.394643</td>\n",
       "      <td>310</td>\n",
       "      <td>Subscriber</td>\n",
       "      <td>1977.0</td>\n",
       "      <td>Male</td>\n",
       "      <td>No</td>\n",
       "      <td>8</td>\n",
       "      <td>San Francisco</td>\n",
       "      <td>41.0</td>\n",
       "    </tr>\n",
       "    <tr>\n",
       "      <th>1415950</th>\n",
       "      <td>261</td>\n",
       "      <td>2018-10-23 08:57:43.257</td>\n",
       "      <td>2018-10-23 09:02:05.099</td>\n",
       "      <td>251.0</td>\n",
       "      <td>California St at University Ave</td>\n",
       "      <td>37.870555</td>\n",
       "      <td>-122.279720</td>\n",
       "      <td>238.0</td>\n",
       "      <td>MLK Jr Way at University Ave</td>\n",
       "      <td>37.871719</td>\n",
       "      <td>-122.273068</td>\n",
       "      <td>3482</td>\n",
       "      <td>Subscriber</td>\n",
       "      <td>1971.0</td>\n",
       "      <td>Female</td>\n",
       "      <td>No</td>\n",
       "      <td>10</td>\n",
       "      <td>East Bay</td>\n",
       "      <td>47.0</td>\n",
       "    </tr>\n",
       "    <tr>\n",
       "      <th>1169173</th>\n",
       "      <td>530</td>\n",
       "      <td>2018-08-02 10:23:39.529</td>\n",
       "      <td>2018-08-02 10:32:30.107</td>\n",
       "      <td>303.0</td>\n",
       "      <td>San Pedro St at Hedding St</td>\n",
       "      <td>37.352601</td>\n",
       "      <td>-121.905733</td>\n",
       "      <td>341.0</td>\n",
       "      <td>Fountain Alley at S 2nd St</td>\n",
       "      <td>37.336188</td>\n",
       "      <td>-121.889277</td>\n",
       "      <td>2197</td>\n",
       "      <td>Subscriber</td>\n",
       "      <td>1985.0</td>\n",
       "      <td>Male</td>\n",
       "      <td>No</td>\n",
       "      <td>8</td>\n",
       "      <td>San Jose</td>\n",
       "      <td>33.0</td>\n",
       "    </tr>\n",
       "  </tbody>\n",
       "</table>\n",
       "</div>"
      ],
      "text/plain": [
       "         duration_sec              start_time                end_time  \\\n",
       "68990             267 2018-01-11 07:22:49.325 2018-01-11 07:27:17.053   \n",
       "2696             1098 2018-01-31 11:02:26.521 2018-01-31 11:20:44.682   \n",
       "1160141           604 2018-08-03 17:12:39.074 2018-08-03 17:22:43.834   \n",
       "1415950           261 2018-10-23 08:57:43.257 2018-10-23 09:02:05.099   \n",
       "1169173           530 2018-08-02 10:23:39.529 2018-08-02 10:32:30.107   \n",
       "\n",
       "         start_station_id                        start_station_name  \\\n",
       "68990               226.0            26th Ave at International Blvd   \n",
       "2696                139.0  Garfield Square (25th St at Harrison St)   \n",
       "1160141              81.0                        Berry St at 4th St   \n",
       "1415950             251.0           California St at University Ave   \n",
       "1169173             303.0                San Pedro St at Hedding St   \n",
       "\n",
       "         start_station_latitude  start_station_longitude  end_station_id  \\\n",
       "68990                 37.781123              -122.232991           234.0   \n",
       "2696                  37.751017              -122.411901            45.0   \n",
       "1160141               37.775880              -122.393170            22.0   \n",
       "1415950               37.870555              -122.279720           238.0   \n",
       "1169173               37.352601              -121.905733           341.0   \n",
       "\n",
       "                            end_station_name  end_station_latitude  \\\n",
       "68990    Fruitvale Ave at International Blvd             37.777682   \n",
       "2696                     5th St at Howard St             37.781752   \n",
       "1160141                Howard St at Beale St             37.789756   \n",
       "1415950         MLK Jr Way at University Ave             37.871719   \n",
       "1169173           Fountain Alley at S 2nd St             37.336188   \n",
       "\n",
       "         end_station_longitude  bike_id   user_type  member_birth_year  \\\n",
       "68990              -122.225771     2463  Subscriber             1975.0   \n",
       "2696               -122.405127      609    Customer             1988.0   \n",
       "1160141            -122.394643      310  Subscriber             1977.0   \n",
       "1415950            -122.273068     3482  Subscriber             1971.0   \n",
       "1169173            -121.889277     2197  Subscriber             1985.0   \n",
       "\n",
       "        member_gender bike_share_for_all_trip  month           zone  \\\n",
       "68990            Male                     Yes      1       East Bay   \n",
       "2696           Female                      No      1  San Francisco   \n",
       "1160141          Male                      No      8  San Francisco   \n",
       "1415950        Female                      No     10       East Bay   \n",
       "1169173          Male                      No      8       San Jose   \n",
       "\n",
       "         age_in_2018  \n",
       "68990           43.0  \n",
       "2696            30.0  \n",
       "1160141         41.0  \n",
       "1415950         47.0  \n",
       "1169173         33.0  "
      ]
     },
     "execution_count": 34,
     "metadata": {},
     "output_type": "execute_result"
    }
   ],
   "source": [
    "rides2_samp = rides2.sample(n= 1000, replace = False)\n",
    "rides2_samp.reset_index()\n",
    "rides2_samp.head()"
   ]
  },
  {
   "cell_type": "code",
   "execution_count": 263,
   "metadata": {
    "slideshow": {
     "slide_type": "subslide"
    }
   },
   "outputs": [
    {
     "data": {
      "image/png": "[encoded data removed]",
      "text/plain": [
       "<Figure size 1152x360 with 1 Axes>"
      ]
     },
     "metadata": {},
     "output_type": "display_data"
    }
   ],
   "source": [
    "plt.figure(figsize=[16,5])\n",
    "# tick marks every 5 minutes.\n",
    "# 5 minutes is equivalent to 300 seconds. 2700 seconds divided by 300 seconds gives us 9 bins.\n",
    "ytick_locs = np.arange(0, 2701, 300)\n",
    "ytick_names = [0, 5, 10, 15, 20, 25, 30, 35, 40, 45]\n",
    "xtick_locs = np.arange(18, 80+1, 5)\n",
    "\n",
    "plt.subplot(1,2,1)\n",
    "plt.scatter(data=rides2_samp, x='age_in_2018', y='duration_sec');\n",
    "plt.xlabel(\"Rider's age\")\n",
    "plt.ylabel('Minutes')\n",
    "plt.yticks(ytick_locs, ytick_names)\n",
    "plt.xticks(xtick_locs, xtick_locs)\n",
    "plt.title(\"Rider's age vs Ride duration \");\n"
   ]
  },
  {
   "cell_type": "markdown",
   "metadata": {
    "slideshow": {
     "slide_type": "fragment"
    }
   },
   "source": [
    "As expected, the younger the riders, the more rides they make. In general, the more frequent rides are of less than 20 minutes.\n",
    "\n",
    "We'll perform now a heat map to make more clear this distribution."
   ]
  },
  {
   "cell_type": "code",
   "execution_count": 260,
   "metadata": {
    "slideshow": {
     "slide_type": "subslide"
    }
   },
   "outputs": [
    {
     "name": "stderr",
     "output_type": "stream",
     "text": [
      "/home/liliana/anaconda3/lib/python3.6/site-packages/numpy/lib/function_base.py:991: RuntimeWarning: invalid value encountered in greater_equal\n",
      "  not_smaller_than_edge = (sample[:, i] >= edges[i][-1])\n"
     ]
    },
    {
     "data": {
      "image/png": "[encoded data removed]",
      "text/plain": [
       "<Figure size 720x432 with 2 Axes>"
      ]
     },
     "metadata": {},
     "output_type": "display_data"
    }
   ],
   "source": [
    "plt.figure(figsize=[10,6])\n",
    "\n",
    "# tick marks every 5 minutes.\n",
    "# 5 minutes is equivalent to 300 seconds. 2700 seconds divided by 300 seconds gives us 9 bins.\n",
    "ytick_locs = np.arange(0, 2700+150, 300)\n",
    "ytick_names = [0, 5, 10, 15, 20, 25, 30, 35, 40, 45]\n",
    "xtick_locs = np.arange(18, 80+1, 5)\n",
    "#xtick_names = [0, 5, 10, 15, 20, 25, 30, 35, 40, 45]\n",
    "\n",
    "\n",
    "# bin edges\n",
    "    # from 18 to 80 years old, bins each 5 years\n",
    "xbin_edges = np.arange(18, 80+1, 5)\n",
    "ybin_edges = np.arange(0, 2700+150, 150)\n",
    "\n",
    "h2d = plt.hist2d(data = rides2_samp, x='age_in_2018', y='duration_sec', cmin=0.5,\n",
    "          bins=[xbin_edges, ybin_edges], cmap='viridis')\n",
    "counts = h2d[0]\n",
    "\n",
    "#add text in each cell\n",
    "for i in range(counts.shape[0]):\n",
    "    for j in range(counts.shape[1]):\n",
    "        c = counts[i,j]\n",
    "        if c>= 8  : # white characters on dark cells\n",
    "            plt.text(xbin_edges[i] + 2.5, ybin_edges[j] + 80, int(c),\n",
    "                    ha = 'center', va='center', color='black')\n",
    "        elif c>0  : # black characters on light cells\n",
    "            plt.text(xbin_edges[i] + 2.5, ybin_edges[j] + 80, int(c),\n",
    "                    ha = 'center', va='center', color='white')\n",
    "\n",
    "\n",
    "plt.yticks(ytick_locs, ytick_names)\n",
    "plt.xticks(xtick_locs, xtick_locs)\n",
    "plt.colorbar(label='Rides count')\n",
    "plt.xlabel(\"Rider's age\")\n",
    "plt.ylabel('Minutes');"
   ]
  },
  {
   "cell_type": "markdown",
   "metadata": {
    "slideshow": {
     "slide_type": "fragment"
    }
   },
   "source": [
    "- users between 18 and 23 years old are not as active as we could think\n",
    "- rides lower than 2.5 minutes, or longer than 35 minutes, are not common for anyone\n",
    "- the most active users are those between 28 and 33 years old\n"
   ]
  },
  {
   "cell_type": "markdown",
   "metadata": {
    "slideshow": {
     "slide_type": "slide"
    }
   },
   "source": [
    "### User_type & ride duration\n",
    "\n",
    "I believe that most of the customers do recreational bicycling, like visitors who want to sightsee in the city and who probably won't stay many days; while most of the subscriptors may do commuting by bicycle, like people who live in the city.\n",
    "\n",
    "How do you think they spend the time in bicycle?"
   ]
  },
  {
   "cell_type": "code",
   "execution_count": 44,
   "metadata": {
    "slideshow": {
     "slide_type": "subslide"
    }
   },
   "outputs": [
    {
     "data": {
      "image/png": "[encoded data removed]",
      "text/plain": [
       "<Figure size 432x288 with 1 Axes>"
      ]
     },
     "metadata": {},
     "output_type": "display_data"
    }
   ],
   "source": [
    "tick_locs = [0,600,1200,1800,2400,2700]\n",
    "tick_names = [0,10,20,30,40,45]\n",
    "base_color = sb.color_palette()[0]\n",
    "sb.violinplot(data = rides2, x='user_type', y='duration_sec', color=base_color)\n",
    "plt.yticks(tick_locs,tick_names)\n",
    "plt.xlabel('')\n",
    "plt.ylabel('Minutes')\n",
    "plt.title('Distribution and ride duration by user type');"
   ]
  },
  {
   "cell_type": "code",
   "execution_count": 47,
   "metadata": {
    "slideshow": {
     "slide_type": "skip"
    }
   },
   "outputs": [
    {
     "data": {
      "text/plain": [
       "user_type       \n",
       "Customer    0.25     544.0\n",
       "            0.50     853.0\n",
       "            0.75    1304.0\n",
       "            1.00    2700.0\n",
       "Subscriber  0.25     328.0\n",
       "            0.50     512.0\n",
       "            0.75     774.0\n",
       "            1.00    2700.0\n",
       "Name: duration_sec, dtype: float64"
      ]
     },
     "execution_count": 47,
     "metadata": {},
     "output_type": "execute_result"
    }
   ],
   "source": [
    "usertype_duration.groupby('user_type')['duration_sec'].quantile([0.25,0.5,0.75,1])"
   ]
  },
  {
   "cell_type": "markdown",
   "metadata": {
    "slideshow": {
     "slide_type": "fragment"
    }
   },
   "source": [
    "There are some differences by user type. \n",
    "- Subscribers tend to make lots of short rides in bicycle, a median of 8.5 minutes\n",
    "- Customers can afford longer rides and enjoy the panorama, with a median of 14 minutes"
   ]
  },
  {
   "cell_type": "markdown",
   "metadata": {
    "slideshow": {
     "slide_type": "slide"
    }
   },
   "source": [
    "### User_type & time of the year usage"
   ]
  },
  {
   "cell_type": "markdown",
   "metadata": {
    "slideshow": {
     "slide_type": "fragment"
    }
   },
   "source": [
    "I'd like to decipher the relationship between the user type and the time of the year in an errorbar showing the ride count through the time. The best time interval for this is by month.\n",
    "\n",
    "For this we must create two dataframes with the ride count by month, one for each user type."
   ]
  },
  {
   "cell_type": "code",
   "execution_count": 49,
   "metadata": {
    "slideshow": {
     "slide_type": "skip"
    }
   },
   "outputs": [],
   "source": [
    "usertype_month = rides2.iloc[:, np.r_[0,1,12, 16] ]\n",
    "usertype_month = usertype_month.groupby(['user_type','month'], as_index=False)['duration_sec'].count()\n",
    "usertype_month_cust = usertype_month[usertype_month['user_type'] == 'Customer']\n",
    "usertype_month_subs = usertype_month[usertype_month['user_type'] == 'Subscriber']"
   ]
  },
  {
   "cell_type": "code",
   "execution_count": 51,
   "metadata": {
    "slideshow": {
     "slide_type": "subslide"
    }
   },
   "outputs": [
    {
     "data": {
      "image/png": "[encoded data removed]",
      "text/plain": [
       "<Figure size 720x360 with 1 Axes>"
      ]
     },
     "metadata": {},
     "output_type": "display_data"
    }
   ],
   "source": [
    "fig = plt.figure(figsize=(10,5) )\n",
    "\n",
    "x_locs = [1,2,3,4,5,6,7,8,9,10,11,12]\n",
    "x_labels = ['Jan','Feb', 'Mar','Apr','May','Jun','Jul','Aug','Sep','Oct','Nov','Dec']\n",
    "y_locs = [20000,40000,60000,80000,100000, 120000, 140000, 160000, 180000]\n",
    "y_labels = ['20k','40k','60k','80k','100k','120k','140k', '180k', '200k',]\n",
    "\n",
    "plt.errorbar(data=usertype_month_cust, x='month', y='duration_sec' , label='Customers',\n",
    "            mfc='#1F78B4', ms=10, mew=1, marker='o')\n",
    "plt.errorbar(data=usertype_month_subs, x='month', y='duration_sec', label='Subscribers',\n",
    "            mfc='#FE7F0E', ms=10, mew=1, marker='o')\n",
    "\n",
    "plt.legend( loc='upper right');\n",
    "plt.title('Ride count by customer type in 2018')\n",
    "plt.ylabel('Count')\n",
    "plt.xticks(x_locs, x_labels)\n",
    "plt.yticks(y_locs, y_labels);"
   ]
  },
  {
   "cell_type": "markdown",
   "metadata": {
    "slideshow": {
     "slide_type": "fragment"
    }
   },
   "source": [
    "In both user types the bikes use increase until July and start to decrease to the end of the year.\n",
    "\n",
    "The subscribers go from 80k to 190k, a variation of 110k rides! It increased around 2.5 times from January to October. While the customers line has a smaller absolute variation, it goes from 10k to 30k, only 20k rides, July had 3 times the rides count from January.\n",
    "\n",
    "The sudden rise in october is a surprise, even more that it only seems to appear in subscribers. Do subscribers know something that customers don't? "
   ]
  },
  {
   "cell_type": "markdown",
   "metadata": {
    "slideshow": {
     "slide_type": "slide"
    }
   },
   "source": [
    "### User type & zone"
   ]
  },
  {
   "cell_type": "markdown",
   "metadata": {
    "slideshow": {
     "slide_type": "fragment"
    }
   },
   "source": [
    "Thinking that most customers are visitors, I believe that most customers would ride mainly in the touristic zones (San Francisco), while most subscriptors would ride both touristic and non touristic zones.\n",
    "\n",
    "We'll start creatin two user type vs zone dataframes: one with ride count and another with ride percentage."
   ]
  },
  {
   "cell_type": "code",
   "execution_count": 52,
   "metadata": {
    "slideshow": {
     "slide_type": "skip"
    }
   },
   "outputs": [
    {
     "data": {
      "text/html": [
       "<div>\n",
       "<style scoped>\n",
       "    .dataframe tbody tr th:only-of-type {\n",
       "        vertical-align: middle;\n",
       "    }\n",
       "\n",
       "    .dataframe tbody tr th {\n",
       "        vertical-align: top;\n",
       "    }\n",
       "\n",
       "    .dataframe thead th {\n",
       "        text-align: right;\n",
       "    }\n",
       "</style>\n",
       "<table border=\"1\" class=\"dataframe\">\n",
       "  <thead>\n",
       "    <tr style=\"text-align: right;\">\n",
       "      <th>user_type</th>\n",
       "      <th>Customer</th>\n",
       "      <th>Subscriber</th>\n",
       "    </tr>\n",
       "    <tr>\n",
       "      <th>zone</th>\n",
       "      <th></th>\n",
       "      <th></th>\n",
       "    </tr>\n",
       "  </thead>\n",
       "  <tbody>\n",
       "    <tr>\n",
       "      <th>San Jose</th>\n",
       "      <td>7</td>\n",
       "      <td>54</td>\n",
       "    </tr>\n",
       "    <tr>\n",
       "      <th>East Bay</th>\n",
       "      <td>28</td>\n",
       "      <td>174</td>\n",
       "    </tr>\n",
       "    <tr>\n",
       "      <th>San Francisco</th>\n",
       "      <td>99</td>\n",
       "      <td>638</td>\n",
       "    </tr>\n",
       "  </tbody>\n",
       "</table>\n",
       "</div>"
      ],
      "text/plain": [
       "user_type      Customer  Subscriber\n",
       "zone                               \n",
       "San Jose              7          54\n",
       "East Bay             28         174\n",
       "San Francisco        99         638"
      ]
     },
     "execution_count": 52,
     "metadata": {},
     "output_type": "execute_result"
    }
   ],
   "source": [
    "usertype_zone = rides2_samp.iloc[:, np.r_[0,12,17] ]\n",
    "usertype_zone=usertype_zone.groupby(['user_type','zone'], as_index=False)['duration_sec'].count()\n",
    "usertype_zone = usertype_zone.pivot(index='zone', columns='user_type')['duration_sec']\n",
    "usertype_zone = usertype_zone.sort_values(by='Customer', ascending=True)\n",
    "usertype_zone"
   ]
  },
  {
   "cell_type": "code",
   "execution_count": 53,
   "metadata": {
    "slideshow": {
     "slide_type": "skip"
    }
   },
   "outputs": [
    {
     "data": {
      "text/html": [
       "<div>\n",
       "<style scoped>\n",
       "    .dataframe tbody tr th:only-of-type {\n",
       "        vertical-align: middle;\n",
       "    }\n",
       "\n",
       "    .dataframe tbody tr th {\n",
       "        vertical-align: top;\n",
       "    }\n",
       "\n",
       "    .dataframe thead th {\n",
       "        text-align: right;\n",
       "    }\n",
       "</style>\n",
       "<table border=\"1\" class=\"dataframe\">\n",
       "  <thead>\n",
       "    <tr style=\"text-align: right;\">\n",
       "      <th>user_type</th>\n",
       "      <th>Customer percentage</th>\n",
       "      <th>Subscriber percentage</th>\n",
       "    </tr>\n",
       "    <tr>\n",
       "      <th>zone</th>\n",
       "      <th></th>\n",
       "      <th></th>\n",
       "    </tr>\n",
       "  </thead>\n",
       "  <tbody>\n",
       "    <tr>\n",
       "      <th>San Jose</th>\n",
       "      <td>11.475410</td>\n",
       "      <td>88.524590</td>\n",
       "    </tr>\n",
       "    <tr>\n",
       "      <th>East Bay</th>\n",
       "      <td>13.861386</td>\n",
       "      <td>86.138614</td>\n",
       "    </tr>\n",
       "    <tr>\n",
       "      <th>San Francisco</th>\n",
       "      <td>13.432836</td>\n",
       "      <td>86.567164</td>\n",
       "    </tr>\n",
       "  </tbody>\n",
       "</table>\n",
       "</div>"
      ],
      "text/plain": [
       "user_type      Customer percentage  Subscriber percentage\n",
       "zone                                                     \n",
       "San Jose                 11.475410              88.524590\n",
       "East Bay                 13.861386              86.138614\n",
       "San Francisco            13.432836              86.567164"
      ]
     },
     "execution_count": 53,
     "metadata": {},
     "output_type": "execute_result"
    }
   ],
   "source": [
    "usertype_zone_percent = usertype_zone.copy() \n",
    "usertype_zone_percent['Customer percentage'] = usertype_zone['Customer'] /(usertype_zone['Customer']+usertype_zone['Subscriber'])*100\n",
    "usertype_zone_percent['Subscriber percentage'] = usertype_zone['Subscriber'] /(usertype_zone['Customer']+usertype_zone['Subscriber'])*100\n",
    "usertype_zone_percent = usertype_zone_percent.drop(['Customer', 'Subscriber'], axis=1)\n",
    "usertype_zone_percent"
   ]
  },
  {
   "cell_type": "code",
   "execution_count": 54,
   "metadata": {
    "slideshow": {
     "slide_type": "subslide"
    }
   },
   "outputs": [
    {
     "data": {
      "image/png": "[encoded data removed]",
      "text/plain": [
       "<Figure size 576x288 with 1 Axes>"
      ]
     },
     "metadata": {},
     "output_type": "display_data"
    },
    {
     "data": {
      "image/png": "[encoded data removed]",
      "text/plain": [
       "<Figure size 576x288 with 1 Axes>"
      ]
     },
     "metadata": {},
     "output_type": "display_data"
    }
   ],
   "source": [
    "ax = usertype_zone.plot(kind='barh',stacked=True, figsize=[8,4], width=0.7)\n",
    "plt.title('Absolute customers & subscribers by zone')\n",
    "plt.ylabel('')\n",
    "plt.xlabel('Count')\n",
    "ax.legend(['Customers', 'Subscribers'], loc = 8 );\n",
    "\n",
    "ax = usertype_zone_percent.plot(kind='barh',stacked=True, figsize=[8,4], width=0.7)\n",
    "plt.title('Relative customers & subscribers by zone')\n",
    "plt.ylabel('')\n",
    "plt.xlabel('Percentage')\n",
    "ax.legend( ['Customers', 'Subscribers'],loc = 8 , framealpha=1);"
   ]
  },
  {
   "cell_type": "markdown",
   "metadata": {
    "slideshow": {
     "slide_type": "subslide"
    }
   },
   "source": [
    "From the first plot it is clear as day the great demand of bikes in the San Francisco area, more than East Bay and San Jose together.\n",
    "\n",
    "From the second plot, the percentages of subscribers in San Jose (90.7%) and East Bay (87.2%) are greater than in San Francisco(85.1%). Maybe most from people who live in the city. \n",
    "\n",
    "The percentage of customers in San Francisco(14.9%) is greater than in San Jose (9.26%)and East Bay(12.8%). Maybe most from people who visit the city. \n",
    "\n",
    "It is funny but, in the three areas the percentages by type of users don't vary too much."
   ]
  },
  {
   "cell_type": "markdown",
   "metadata": {
    "slideshow": {
     "slide_type": "slide"
    }
   },
   "source": [
    "### Talk about some of the relationships you observed in this part of the investigation. How did the feature(s) of interest vary with other features in the dataset?\n",
    "\n",
    "About differences by user types:\n",
    "\n",
    "Subscribers tend to make lots of short rides in bicycle, with a median of 8.5 minutes. In winter there are around 80k-100k rides per month, but in summer there are up to 180k rides per month! and then decreases again. They are the majority in San Francisco, East Bay and San Jose.\n",
    "\n",
    "Customers can afford longer rides and enjoy the panorama, with a median of 14 minutes. In winter there are around 10k rides per month, and in summere up to 30k rides per month. Not as variable as the other group. The most rided zone by customers is San Francisco.\n",
    "\n",
    "\n",
    "\n"
   ]
  },
  {
   "cell_type": "markdown",
   "metadata": {
    "slideshow": {
     "slide_type": "subslide"
    }
   },
   "source": [
    "\n",
    "### Did you observe any interesting relationships between the other features (not the main feature(s) of interest)?\n",
    "\n",
    "Yes!, as expected, the younger the riders, the more active they are, but users 18-23 years old are not too active. I observed that the more frequent bike users are those between 24 and 38 years old.\n",
    "\n",
    "Also, there was an odd ride rate increase during october, but only by the subscribers type, from which is no clear reason. In the next month, november, there was a sudden ride rate decrease, which could be related to the wildfires in California which affected the air quality."
   ]
  },
  {
   "cell_type": "markdown",
   "metadata": {
    "slideshow": {
     "slide_type": "slide"
    }
   },
   "source": [
    "## Multivariate Exploration"
   ]
  },
  {
   "cell_type": "markdown",
   "metadata": {
    "slideshow": {
     "slide_type": "slide"
    }
   },
   "source": [
    "### boxplot matrix\n",
    "To start this third phase, a boxplot matrix with 3 categorical vars (user type, zone, and gender), and two numerical vars (age in 2018 and duration in seconds)"
   ]
  },
  {
   "cell_type": "code",
   "execution_count": 252,
   "metadata": {
    "slideshow": {
     "slide_type": "fragment"
    }
   },
   "outputs": [
    {
     "data": {
      "image/png": "[encoded data removed]",
      "text/plain": [
       "<Figure size 972x432 with 6 Axes>"
      ]
     },
     "metadata": {},
     "output_type": "display_data"
    }
   ],
   "source": [
    "# plot matrix of numeric features against categorical features.\n",
    "# can use a larger sample since there are fewer plots and they're simpler in nature.\n",
    "\n",
    "def boxgrid(x, y, **kwargs):\n",
    "    \"\"\" Quick hack for creating box plots with seaborn's PairGrid. \"\"\"\n",
    "    default_color = sb.color_palette()[0]\n",
    "    sb.boxplot(x, y, color = default_color)\n",
    "\n",
    "g = sb.PairGrid(data = rides2_samp, y_vars = ['duration_sec', 'age_in_2018'], \n",
    "                x_vars = ['user_type', 'zone', 'member_gender'], size = 3, aspect = 1.5)\n",
    "g.map(boxgrid);\n"
   ]
  },
  {
   "cell_type": "markdown",
   "metadata": {
    "slideshow": {
     "slide_type": "subslide"
    }
   },
   "source": [
    "#### For the rides duration\n",
    "- as in the previous violin plot, there is a clear difference in which customers spend more time in each ride (even though their time limit is only 30min) than subscribers (allowed 45 min per ride).\n",
    "- in general, in San Francisco users spend more time in bikes than in the other zones.\n",
    "- there is almost no difference in ride duration by gender\n",
    "\n",
    "#### For the user's age \n",
    "- subscribers age range is wider, while customers have a younger range.\n",
    "- users in East Bay and San Francisco are pretty similar... while San Jose is full of young riders!\n",
    "- there is almost no difference in rider's age by gender"
   ]
  },
  {
   "cell_type": "markdown",
   "metadata": {
    "slideshow": {
     "slide_type": "slide"
    }
   },
   "source": [
    "### start and end stations by user type\n",
    "\n",
    "If we plot the coordinates of the start stations by type of users:\n",
    "\n",
    "- would it be any difference between customers and subscribers?\n",
    "- would it be the same as the end stations?"
   ]
  },
  {
   "cell_type": "code",
   "execution_count": 249,
   "metadata": {
    "slideshow": {
     "slide_type": "fragment"
    }
   },
   "outputs": [
    {
     "data": {
      "image/png": "[encoded data removed]",
      "text/plain": [
       "<Figure size 864x432 with 1 Axes>"
      ]
     },
     "metadata": {},
     "output_type": "display_data"
    }
   ],
   "source": [
    "plt.figure(figsize=[12,6])\n",
    "cat_markers = [['Subscriber','o','#FE7F0E'],\n",
    "              ['Customer','o', '#1F78B4']]\n",
    "for cat, marker, u_color in cat_markers:\n",
    "    rides2_samp_cat = rides2_samp[rides2_samp['user_type']==cat]\n",
    "    ax = plt.scatter(data=rides2_samp_cat, x='start_station_longitude', y='start_station_latitude'\n",
    "                     , marker=marker, color=u_color);\n",
    "    \n",
    "plt.legend(['Subscribers','Customers'])\n",
    "plt.xlabel('Longitude')\n",
    "plt.ylabel('Latitude')\n",
    "plt.title('Start stations by user type')\n",
    "\n",
    "plt.text(-122.45,37.6, 'San Francisco', fontsize=12)\n",
    "plt.text(-122.28,37.6, 'East Bay', fontsize=12)\n",
    "plt.text(-121.95,37.6, 'San Jose', fontsize=12);\n"
   ]
  },
  {
   "cell_type": "code",
   "execution_count": 250,
   "metadata": {
    "slideshow": {
     "slide_type": "subslide"
    }
   },
   "outputs": [
    {
     "data": {
      "image/png": "[encoded data removed]",
      "text/plain": [
       "<Figure size 864x432 with 1 Axes>"
      ]
     },
     "metadata": {},
     "output_type": "display_data"
    }
   ],
   "source": [
    "plt.figure(figsize=[12,6])\n",
    "cat_markers = [['Subscriber','o','#FE7F0E'],\n",
    "              ['Customer','o', '#1F78B4']]\n",
    "for cat, marker, u_color in cat_markers:\n",
    "    rides2_samp_cat = rides2_samp[rides2_samp['user_type']==cat]\n",
    "    ax = plt.scatter(data=rides2_samp_cat, x='end_station_longitude', y='end_station_latitude'\n",
    "                     , marker=marker, color=u_color);\n",
    "    \n",
    "plt.legend(['Subscribers','Customers'])\n",
    "plt.xlabel('Longitude')\n",
    "plt.ylabel('Latitude')\n",
    "plt.title('End stations by user type')\n",
    "\n",
    "plt.text(-122.45,37.6, 'San Francisco', fontsize=12)\n",
    "plt.text(-122.28,37.6, 'East Bay', fontsize=12)\n",
    "plt.text(-121.95,37.6, 'San Jose', fontsize=12);\n"
   ]
  },
  {
   "cell_type": "markdown",
   "metadata": {
    "slideshow": {
     "slide_type": "subslide"
    }
   },
   "source": [
    "#### - Would it be any difference between customers and subscribers?\n",
    "\n",
    "In San Francisco, almost the same start&end stations are used by both type of users.\n",
    "In East Bay and San Jose, there are only a few stations used by customers, and many more used by subscribers.\n",
    "\n",
    "#### - Would it be the same as the end stations?\n",
    "\n",
    "Yes, it is almost the same kind of use. Customers and subscribers park and get bikes almost in the same stations."
   ]
  },
  {
   "cell_type": "markdown",
   "metadata": {
    "slideshow": {
     "slide_type": "slide"
    }
   },
   "source": [
    "### Talk about some of the relationships you observed in this part of the investigation.\n",
    "\n",
    "- ***Customers*** \n",
    "    - Are users who love riding mainly in San Francisco area, but not much on East Bay, and less in San Jose. \n",
    "    - They spend a wide time enjoying the panorama.\n",
    "    - Make a media of 14 minutes rides, even though their time limit is only 30min. \n",
    "    - Their age ranges between late 20's and late 30's. \n",
    "    - Their use throughout the year is related to the season events, but generally steady.\n",
    "    - The maximum usage was 30k rides in July, 3 times the January usage.\n",
    "\n",
    "\n",
    "- ***Subscribers*** \n",
    "    - Are users who equally ride the three mentioned areas. \n",
    "    - They make lots of quick rides in bicycle\n",
    "    - Make a media of 8.5 minutes rides, even though they're allowed 45 min per ride, many could be commutes. \n",
    "    - Their age ranges mainly between late 20's and early 40's. \n",
    "    - Their use throughout the year is also related to the season events, but unpredictable or unknown events may affect their use. \n",
    "    - The maximum usage was 190k rides in October, 2.5 times the January usage.\n"
   ]
  },
  {
   "cell_type": "markdown",
   "metadata": {
    "slideshow": {
     "slide_type": "subslide"
    }
   },
   "source": [
    "\n",
    "### Were there any interesting or surprising interactions between features?\n",
    "\n",
    "Some astonishing findings encountered:\n",
    "\n",
    "- Users between 18 and 23 years old are not as active as we could think, and the most active users are those between 28 and 33 years old.\n",
    "\n",
    "- Regarding the zones and rider's age, in which San Jose users are boldly younger than in other zones.\n",
    "\n",
    "- The unknown reason of having a sharp high rate of subscribers in October, and the sudden drop-off in November.\n",
    "\n",
    "- Even when San Francisco has an outstanding greater percentage of customers than East Bay and San Jose, the absolute values of customers in the three areas is not varying a lot.\n"
   ]
  },
  {
   "cell_type": "markdown",
   "metadata": {
    "slideshow": {
     "slide_type": "subslide"
    }
   },
   "source": [
    "<center>\n",
    "###  Thank you!\n",
    "![fordgobike5](fordgobike5.jpg)\n",
    "(https://mtc.ca.gov/whats-happening/news/ford-gobike-announces-innovative-miles-miles-partnership-alaska-airlines)"
   ]
  },
  {
   "cell_type": "markdown",
   "metadata": {
    "slideshow": {
     "slide_type": "skip"
    }
   },
   "source": [
    "## References\n",
    "\n",
    "Using conditional to generate new column in pandas dataframe <b>(Definitely the fastest way!)</b>\n",
    "\n",
    "https://stackoverflow.com/questions/27041724/using-conditional-to-generate-new-column-in-pandas-dataframe\n",
    "\n",
    "How do I convert seconds to hours, minutes and seconds?\n",
    "\n",
    "https://stackoverflow.com/questions/775049/how-do-i-convert-seconds-to-hours-minutes-and-seconds\n",
    "\n",
    "Extract month and year from column in Pandas, create new column\n",
    "\n",
    "https://erikrood.com/Python_References/extract_month_year_pandas_final.html\n",
    "\n",
    "Histogram plotting “AttributeError: max must be larger than min in range parameter\n",
    "\n",
    "https://stackoverflow.com/questions/42014687/histogram-plotting-attributeerror-max-must-be-larger-than-min-in-range-paramet?rq=1\n",
    "\n",
    "Count plot with stacked bars per hue\n",
    "\n",
    "https://stackoverflow.com/questions/50319614/count-plot-with-stacked-bars-per-hue\n",
    "\n",
    "Set labels size on a pie chart\n",
    "\n",
    "https://stackoverflow.com/questions/7082345/how-to-set-the-labels-size-on-a-pie-chart-in-python\n",
    "\n",
    "numpy.linspace\n",
    "\n",
    "https://docs.scipy.org/doc/numpy/reference/generated/numpy.linspace.html#numpy-linspace\n",
    "\n",
    "Setting different color for each series in scatter plot on matplotlib\n",
    "\n",
    "https://stackoverflow.com/questions/12236566/setting-different-color-for-each-series-in-scatter-plot-on-matplotlib\n",
    "\n",
    "Pandas pivot table\n",
    "\n",
    "http://pandas.pydata.org/pandas-docs/stable/reference/api/pandas.pivot_table.html\n",
    "\n",
    "Pandas melt\n",
    "\n",
    "https://www.geeksforgeeks.org/python-pandas-melt/"
   ]
  },
  {
   "cell_type": "markdown",
   "metadata": {},
   "source": [
    "### Comparisons between R & Python\n",
    "\n",
    "https://towardsdatascience.com/data-science-101-is-python-better-than-r-b8f258f57b0f\n",
    "\n",
    "https://spectrum.ieee.org/static/interactive-the-top-programming-languages-2018"
   ]
  }
 ],
 "metadata": {
  "celltoolbar": "Slideshow",
  "kernelspec": {
   "display_name": "Python [default]",
   "language": "python",
   "name": "python3"
  },
  "language_info": {
   "codemirror_mode": {
    "name": "ipython",
    "version": 3
   },
   "file_extension": ".py",
   "mimetype": "text/x-python",
   "name": "python",
   "nbconvert_exporter": "python",
   "pygments_lexer": "ipython3",
   "version": "3.6.5"
  }
 },
 "nbformat": 4,
 "nbformat_minor": 2
}
